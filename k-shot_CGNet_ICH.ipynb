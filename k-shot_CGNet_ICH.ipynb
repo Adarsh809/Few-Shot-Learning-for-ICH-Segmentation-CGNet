{
 "cells": [
  {
   "cell_type": "code",
   "execution_count": 1,
   "id": "fc835467",
   "metadata": {},
   "outputs": [],
   "source": [
    "from torch.utils.tensorboard import SummaryWriter\n",
    "writer = SummaryWriter('runs/experiment1')\n",
    "from tqdm import tqdm"
   ]
  },
  {
   "cell_type": "markdown",
   "id": "0ccaf360",
   "metadata": {},
   "source": [
    "## Few-Shot Dataset and Dataloader"
   ]
  },
  {
   "cell_type": "code",
   "execution_count": 2,
   "id": "975e31a4",
   "metadata": {},
   "outputs": [],
   "source": [
    "import nibabel as nib\n",
    "import numpy as np\n",
    "import torch\n",
    "from torch.utils.data import Dataset, DataLoader"
   ]
  },
  {
   "cell_type": "code",
   "execution_count": 3,
   "id": "65b07a10",
   "metadata": {},
   "outputs": [],
   "source": [
    "def window_image(x, min_hu=-40, max_hu=120):\n",
    "    x = np.clip(x, min_hu, max_hu)\n",
    "    x = (x - min_hu) / (max_hu - min_hu)\n",
    "    return x"
   ]
  },
  {
   "cell_type": "code",
   "execution_count": 4,
   "id": "64091f35",
   "metadata": {},
   "outputs": [],
   "source": [
    "def split_to_patches(img, mask):\n",
    "    \"\"\"Split a 512×512 image/mask into four 256×256 patches.\"\"\"\n",
    "    patches, masks = [], []\n",
    "    # Top-left, top-right, bottom-left, bottom-right\n",
    "    coords = [(0,0), (0,256), (256,0), (256,256)]\n",
    "    for (i,j) in coords:\n",
    "        patches.append(img[i:i+256, j:j+256].copy())\n",
    "        masks.append(mask[i:i+256, j:j+256].copy())\n",
    "    return patches, masks"
   ]
  },
  {
   "cell_type": "code",
   "execution_count": 5,
   "id": "4e8100bb",
   "metadata": {},
   "outputs": [],
   "source": [
    "class FewShotSegDataset(Dataset):\n",
    "    def __init__(self, image_paths, mask_paths, shots=1):\n",
    "        self.shots = shots\n",
    "        self.patches = []  \n",
    "        self.class_to_idxs = {}\n",
    "\n",
    "        print(\"Preloading all slices... This might take a few minutes, but will save HOURS later.\")\n",
    "\n",
    "        for img_file, msk_file in tqdm(zip(image_paths, mask_paths), total=len(image_paths)):\n",
    "            vol_img = nib.load(img_file).get_fdata()\n",
    "            vol_msk = nib.load(msk_file).get_fdata()\n",
    "            D = vol_img.shape[2]\n",
    "            for z in range(D):\n",
    "                slice_img = vol_img[:, :, z]\n",
    "                slice_msk = vol_msk[:, :, z]\n",
    "                slice_img = window_image(slice_img)\n",
    "                if slice_img.shape != (512,512):\n",
    "                    continue\n",
    "                img_patches, msk_patches = split_to_patches(slice_img, slice_msk)\n",
    "                for ip, mp in zip(img_patches, msk_patches):\n",
    "                    classes = [int(c) for c in np.unique(mp) if c != 0]\n",
    "                    if len(classes) == 0:\n",
    "                        continue\n",
    "                    self.patches.append({'image': ip, 'mask': mp, 'classes': classes})\n",
    "\n",
    "        print(f\"Total cached patches: {len(self.patches)}\")\n",
    "\n",
    "        for idx, patch in enumerate(self.patches):\n",
    "            for cls in patch['classes']:\n",
    "                self.class_to_idxs.setdefault(cls, []).append(idx)\n",
    "\n",
    "        self.available_classes = list(self.class_to_idxs.keys())\n",
    "\n",
    "    def __len__(self):\n",
    "        return len(self.patches)\n",
    "\n",
    "    def __getitem__(self, idx):\n",
    "        data_q = self.patches[idx]\n",
    "        # Randomly pick one class from the query patch as the target\n",
    "        target_cls = np.random.choice(data_q['classes'])\n",
    "        query_img = data_q['image']\n",
    "        query_mask = (data_q['mask'] == target_cls).astype(np.float32)\n",
    "        # Get K support indices for that class (exclude query itself)\n",
    "        support_idxs = list(self.class_to_idxs[target_cls])\n",
    "        if idx in support_idxs:\n",
    "            support_idxs.remove(idx)\n",
    "        if len(support_idxs) == 0:\n",
    "            support_idxs = list(self.class_to_idxs[target_cls])  # allow reuse\n",
    "        if self.shots <= len(support_idxs):\n",
    "            chosen = np.random.choice(support_idxs, self.shots, replace=False)\n",
    "        else:\n",
    "            chosen = np.random.choice(support_idxs, self.shots, replace=True)\n",
    "        support_imgs, support_msks = [], []\n",
    "        for s in chosen:\n",
    "            data_s = self.patches[s]\n",
    "            support_imgs.append(data_s['image'])\n",
    "            support_msks.append((data_s['mask'] == target_cls).astype(np.float32))\n",
    "        # Convert to torch tensors with channel dim\n",
    "        support_imgs = torch.from_numpy(np.stack(support_imgs)).unsqueeze(1).float()\n",
    "        support_msks = torch.from_numpy(np.stack(support_msks)).unsqueeze(1).float()\n",
    "        query_img   = torch.from_numpy(query_img).unsqueeze(0).float()\n",
    "        query_mask  = torch.from_numpy(query_mask).unsqueeze(0).float()\n",
    "        return support_imgs, support_msks, query_img, query_mask"
   ]
  },
  {
   "cell_type": "code",
   "execution_count": 6,
   "id": "a22c7014",
   "metadata": {},
   "outputs": [],
   "source": [
    "from pathlib import Path\n",
    "import random\n",
    "class FastPatchDataset(Dataset):\n",
    "    def __init__(self, patch_folder, shots=1):\n",
    "        self.img_dir = Path(patch_folder) / 'images'\n",
    "        self.mask_dir = Path(patch_folder) / 'masks'\n",
    "        self.img_paths = sorted(self.img_dir.glob(\"*.pt\"))\n",
    "        self.mask_paths = sorted(self.mask_dir.glob(\"*.pt\"))\n",
    "        self.shots = shots\n",
    "\n",
    "    def __len__(self):\n",
    "        return len(self.img_paths)\n",
    "\n",
    "    def __getitem__(self, idx):\n",
    "        query_img = torch.load(self.img_paths[idx]).float()\n",
    "        query_mask = torch.load(self.mask_paths[idx]).float()\n",
    "        if query_mask.ndim == 2:\n",
    "            query_mask = query_mask.unsqueeze(0)\n",
    "        query_mask = (query_mask > 0).float()  # Binarize here ✅\n",
    "\n",
    "\n",
    "        # Ensure shape: (1, 256, 256)\n",
    "        if query_img.ndim == 2:\n",
    "            query_img = query_img.unsqueeze(0)\n",
    "        if query_mask.ndim == 2:\n",
    "            query_mask = query_mask.unsqueeze(0)\n",
    "\n",
    "        # Sample support indices\n",
    "        support_idxs = list(range(0, idx)) + list(range(idx + 1, len(self.img_paths)))\n",
    "        support_idxs = random.sample(support_idxs, self.shots)\n",
    "\n",
    "        support_imgs, support_msks = [], []\n",
    "\n",
    "        for s_idx in support_idxs:\n",
    "            s_img = torch.load(self.img_paths[s_idx]).float()\n",
    "            s_msk = torch.load(self.mask_paths[s_idx]).float()\n",
    "\n",
    "            if s_img.ndim == 2:\n",
    "                s_img = s_img.unsqueeze(0)\n",
    "            elif s_img.ndim == 3 and s_img.shape[0] == 1:\n",
    "                pass  # already correct\n",
    "            else:\n",
    "                raise ValueError(f\"Bad shape: {s_img.shape}\")\n",
    "            if s_msk.ndim == 2:\n",
    "                s_msk = s_msk.unsqueeze(0)\n",
    "            s_msk = (s_msk > 0).float()  # Binarize here too ✅\n",
    "\n",
    "            support_imgs.append(s_img)\n",
    "            support_msks.append(s_msk)\n",
    "\n",
    "        # Stack to (K, 1, 256, 256)\n",
    "        #print(\"Support indiv shape:\", s_img.shape)\n",
    "\n",
    "        support_imgs = torch.stack(support_imgs)\n",
    "        support_msks = torch.stack(support_msks)\n",
    "\n",
    "        return support_imgs.squeeze(0), support_msks.squeeze(0), query_img, query_mask\n"
   ]
  },
  {
   "cell_type": "code",
   "execution_count": 7,
   "id": "b129f1c6",
   "metadata": {},
   "outputs": [],
   "source": [
    "# Example: Get list of your BHSD labeled image paths\n",
    "import glob\n",
    "\n",
    "image_paths = sorted(glob.glob('BHSD/label_192/images/*.nii.gz'))\n",
    "mask_paths  = sorted(glob.glob('BHSD/label_192/ground truths/*.nii.gz'))"
   ]
  },
  {
   "cell_type": "code",
   "execution_count": 8,
   "id": "a3f7032f",
   "metadata": {},
   "outputs": [],
   "source": [
    "# Split into 70% train, 10% val, 20% test (as paper suggests)\n",
    "from sklearn.model_selection import train_test_split\n",
    "\n",
    "train_imgs, temp_imgs, train_masks, temp_masks = train_test_split(\n",
    "    image_paths, mask_paths, test_size=0.3, random_state=42)\n",
    "\n",
    "val_imgs, test_imgs, val_masks, test_masks = train_test_split(\n",
    "    temp_imgs, temp_masks, test_size=2/3, random_state=42)"
   ]
  },
  {
   "cell_type": "code",
   "execution_count": 9,
   "id": "44605dba",
   "metadata": {},
   "outputs": [
    {
     "name": "stdout",
     "output_type": "stream",
     "text": [
      "Preloading all slices... This might take a few minutes, but will save HOURS later.\n"
     ]
    },
    {
     "name": "stderr",
     "output_type": "stream",
     "text": [
      "100%|██████████| 19/19 [00:07<00:00,  2.58it/s]\n"
     ]
    },
    {
     "name": "stdout",
     "output_type": "stream",
     "text": [
      "Total cached patches: 618\n",
      "Preloading all slices... This might take a few minutes, but will save HOURS later.\n"
     ]
    },
    {
     "name": "stderr",
     "output_type": "stream",
     "text": [
      "100%|██████████| 39/39 [00:14<00:00,  2.62it/s]"
     ]
    },
    {
     "name": "stdout",
     "output_type": "stream",
     "text": [
      "Total cached patches: 897\n"
     ]
    },
    {
     "name": "stderr",
     "output_type": "stream",
     "text": [
      "\n"
     ]
    }
   ],
   "source": [
    "# Now create your datasets\n",
    "train_dataset = FastPatchDataset('BHSD/preprocessed_patches', shots=1)\n",
    "train_loader = DataLoader(train_dataset, batch_size=1, shuffle=True, num_workers=4, pin_memory=True)\n",
    "val_dataset   = FewShotSegDataset(val_imgs, val_masks, shots=1)\n",
    "test_dataset  = FewShotSegDataset(test_imgs, test_masks, shots=1)"
   ]
  },
  {
   "cell_type": "markdown",
   "id": "6b8c4a3a",
   "metadata": {},
   "source": [
    "## CGNet Architecture"
   ]
  },
  {
   "cell_type": "code",
   "execution_count": 10,
   "id": "af3ae377",
   "metadata": {},
   "outputs": [],
   "source": [
    "import torch\n",
    "import torch.nn as nn\n",
    "import torch.nn.functional as F\n",
    "import torchvision"
   ]
  },
  {
   "cell_type": "markdown",
   "id": "8f91b64d",
   "metadata": {},
   "source": [
    "Cross-Feature Module (CFM):\n",
    "This module fuses support and query features to highlight lesion correlations."
   ]
  },
  {
   "cell_type": "code",
   "execution_count": 11,
   "id": "e455d8cc",
   "metadata": {},
   "outputs": [],
   "source": [
    "class CrossFeatureModule(nn.Module):\n",
    "    def __init__(self, in_ch):\n",
    "        super().__init__()\n",
    "        self.conv_q = nn.Conv2d(in_ch, in_ch, 3, padding=1)\n",
    "        self.conv_s = nn.Conv2d(in_ch, in_ch, 3, padding=1)\n",
    "        self.conv_out = nn.Conv2d(in_ch * 2, in_ch, 3, padding=1)\n",
    "        self.relu = nn.ReLU(inplace=True)\n",
    "\n",
    "    def forward(self, Fq, Fs):\n",
    "        Q = self.relu(self.conv_q(Fq))\n",
    "        S = self.relu(self.conv_s(Fs))\n",
    "        M = Q * S\n",
    "        out = self.conv_out(torch.cat([Fq, M], dim=1))\n",
    "        return self.relu(out)"
   ]
  },
  {
   "cell_type": "markdown",
   "id": "e080853e",
   "metadata": {},
   "source": [
    " Support Guide Query (SGQ): In CGNet, the SGQ refines segmentation by integrating support and query at multiple scales. In practice, one might propagate the fused features (CFM output) along a feature pyramid. For simplicity, we note SGQ as concept and continue with a pyramid decoder that implicitly uses multi-scale information."
   ]
  },
  {
   "cell_type": "markdown",
   "id": "5166f15b",
   "metadata": {},
   "source": [
    "Multi Scale Pyramid Decoder: We decode the fused feature map back to full resolution using upsampling and skip connections. "
   ]
  },
  {
   "cell_type": "code",
   "execution_count": 12,
   "id": "d3028637",
   "metadata": {},
   "outputs": [],
   "source": [
    "class MultiScaleDecoder(nn.Module):\n",
    "    def __init__(self, in_ch):\n",
    "        super().__init__()\n",
    "        self.up1 = nn.ConvTranspose2d(in_ch, 512, 2, stride=2)\n",
    "        self.conv1 = nn.Conv2d(512, 512, 3, padding=1)\n",
    "        self.up2 = nn.ConvTranspose2d(512, 256, 2, stride=2)\n",
    "        self.conv2 = nn.Conv2d(256, 256, 3, padding=1)\n",
    "        self.up3 = nn.ConvTranspose2d(256, 128, 2, stride=2)\n",
    "        self.conv3 = nn.Conv2d(128, 128, 3, padding=1)\n",
    "        self.up4 = nn.ConvTranspose2d(128, 64, 2, stride=2)\n",
    "        self.conv4 = nn.Conv2d(64, 64, 3, padding=1)\n",
    "\n",
    "    def forward(self, x):\n",
    "        x = F.relu(self.conv1(self.up1(x)))  # 8 -> 16\n",
    "        x = F.relu(self.conv2(self.up2(x)))  # 16 -> 32\n",
    "        x = F.relu(self.conv3(self.up3(x)))  # 32 -> 64\n",
    "        x = F.relu(self.conv4(self.up4(x)))  # 64 -> 128\n",
    "        return x"
   ]
  },
  {
   "cell_type": "markdown",
   "id": "25c9445a",
   "metadata": {},
   "source": [
    "Iteration Decoder: Iterativley refines the output"
   ]
  },
  {
   "cell_type": "code",
   "execution_count": 13,
   "id": "bf55332d",
   "metadata": {},
   "outputs": [],
   "source": [
    "class IterationDecoder(nn.Module):\n",
    "    def __init__(self, feat_ch):\n",
    "        super().__init__()\n",
    "        self.final_conv = nn.Conv2d(feat_ch, 1, kernel_size=1)\n",
    "\n",
    "    def forward(self, feat):\n",
    "        logit1 = self.final_conv(feat)\n",
    "        pred1 = torch.sigmoid(logit1)\n",
    "\n",
    "        attn = F.interpolate(pred1, size=feat.shape[2:], mode='bilinear', align_corners=False)\n",
    "        feat2 = feat * attn\n",
    "        logit2 = self.final_conv(feat2)\n",
    "        out = torch.sigmoid(logit2)\n",
    "\n",
    "        # Force output to 256x256\n",
    "        out = F.interpolate(out, size=(256, 256), mode='bilinear', align_corners=False)\n",
    "        return out"
   ]
  },
  {
   "cell_type": "code",
   "execution_count": 14,
   "id": "90ad75dd",
   "metadata": {},
   "outputs": [],
   "source": [
    "class CGNet(nn.Module):\n",
    "    def __init__(self):\n",
    "        super().__init__()\n",
    "        resnet = torchvision.models.resnet18(pretrained=True)  # ⬅️ using ResNet-18 for speed\n",
    "\n",
    "        # Modify first conv for 1-channel input\n",
    "        resnet.conv1 = nn.Conv2d(1, 64, kernel_size=7, stride=2, padding=3, bias=False)\n",
    "        resnet.conv1.weight.data = resnet.conv1.weight.data.mean(dim=1, keepdim=True)\n",
    "\n",
    "        self.encoder = nn.Sequential(\n",
    "            resnet.conv1, resnet.bn1, resnet.relu, resnet.maxpool,\n",
    "            resnet.layer1, resnet.layer2, resnet.layer3, resnet.layer4\n",
    "        )\n",
    "\n",
    "        self.cfm = CrossFeatureModule(in_ch=512)  # 512 for ResNet-18\n",
    "        self.decoder = MultiScaleDecoder(in_ch=512)\n",
    "        self.iter_decoder = IterationDecoder(feat_ch=64)\n",
    "\n",
    "    def forward(self, support_imgs, support_msks, query_img):\n",
    "        # support_imgs: (1, shots, 1, 256, 256)\n",
    "        # query_img: (1,1,256,256)\n",
    "\n",
    "        shots = support_imgs.size(1)\n",
    "\n",
    "        # Flatten support batch\n",
    "        support_imgs_batch = support_imgs.view(shots, 1, 256, 256)\n",
    "        support_msks_batch = support_msks.view(shots, 1, 256, 256)\n",
    "\n",
    "        # Encode all supports at once\n",
    "        feat_s_batch = self.encoder(support_imgs_batch)  # (shots, C, H', W')\n",
    "        masks_resized = F.interpolate(support_msks_batch, size=feat_s_batch.shape[2:], mode='bilinear', align_corners=False)\n",
    "        feat_s_batch = feat_s_batch * masks_resized\n",
    "\n",
    "        # Mean of all support features\n",
    "        support_feat = torch.mean(feat_s_batch, dim=0, keepdim=True)  # (1, C, H', W')\n",
    "\n",
    "        # Encode query\n",
    "        query_img = query_img  # (1,1,256,256)\n",
    "        feat_q = self.encoder(query_img)\n",
    "\n",
    "        # Cross-feature interaction\n",
    "        fused = self.cfm(feat_q, support_feat)\n",
    "\n",
    "        # Decode\n",
    "        dec_feat = self.decoder(fused)\n",
    "\n",
    "        # Iterative prediction\n",
    "        out_mask = self.iter_decoder(dec_feat)\n",
    "\n",
    "        return out_mask"
   ]
  },
  {
   "cell_type": "markdown",
   "id": "2e8dfe18",
   "metadata": {},
   "source": [
    "## Training"
   ]
  },
  {
   "cell_type": "code",
   "execution_count": 15,
   "id": "3ddea90c",
   "metadata": {},
   "outputs": [
    {
     "data": {
      "text/plain": [
       "'import os\\nos.environ[\"CUDA_LAUNCH_BLOCKING\"] = \"1\"'"
      ]
     },
     "execution_count": 15,
     "metadata": {},
     "output_type": "execute_result"
    }
   ],
   "source": [
    "'''import os\n",
    "os.environ[\"CUDA_LAUNCH_BLOCKING\"] = \"1\"'''"
   ]
  },
  {
   "cell_type": "code",
   "execution_count": 16,
   "id": "f2044c82",
   "metadata": {},
   "outputs": [
    {
     "name": "stdout",
     "output_type": "stream",
     "text": [
      "Using device: cuda\n"
     ]
    }
   ],
   "source": [
    "import torch\n",
    "\n",
    "# Check if GPU is available, else fallback to CPU\n",
    "device = torch.device('cuda' if torch.cuda.is_available() else 'cpu')\n",
    "#device=torch.device('cpu')\n",
    "print(f\"Using device: {device}\")"
   ]
  },
  {
   "cell_type": "code",
   "execution_count": 17,
   "id": "4ed93fc1",
   "metadata": {},
   "outputs": [],
   "source": [
    "# Global Training Settings\n",
    "num_epochs = 50\n",
    "batch_size = 1\n",
    "learning_rate = 1e-4\n",
    "shots = 1\n",
    "ways = 1\n",
    "\n",
    "train_losses, val_losses = [], []\n",
    "train_dices, val_dices = [], []\n",
    "train_ious, val_ious = [], []\n",
    "\n",
    "best_val_loss = float('inf')"
   ]
  },
  {
   "cell_type": "code",
   "execution_count": 18,
   "id": "c0a5d047",
   "metadata": {},
   "outputs": [
    {
     "name": "stderr",
     "output_type": "stream",
     "text": [
      "c:\\ETC\\py\\venv\\Lib\\site-packages\\torchvision\\models\\_utils.py:208: UserWarning: The parameter 'pretrained' is deprecated since 0.13 and may be removed in the future, please use 'weights' instead.\n",
      "  warnings.warn(\n",
      "c:\\ETC\\py\\venv\\Lib\\site-packages\\torchvision\\models\\_utils.py:223: UserWarning: Arguments other than a weight enum or `None` for 'weights' are deprecated since 0.13 and may be removed in the future. The current behavior is equivalent to passing `weights=ResNet18_Weights.IMAGENET1K_V1`. You can also use `weights=ResNet18_Weights.DEFAULT` to get the most up-to-date weights.\n",
      "  warnings.warn(msg)\n"
     ]
    }
   ],
   "source": [
    "model = CGNet().to(device)\n",
    "optimizer = torch.optim.Adam(model.parameters(), lr=1e-4)\n",
    "\n",
    "train_loader = DataLoader(\n",
    "    train_dataset, \n",
    "    batch_size, \n",
    "    shuffle=True, \n",
    "    num_workers=0, \n",
    "    pin_memory=False\n",
    ")\n",
    "val_loader = DataLoader(\n",
    "    val_dataset, \n",
    "    batch_size, \n",
    "    shuffle=False, \n",
    "    num_workers=0, \n",
    "    pin_memory=False\n",
    ")"
   ]
  },
  {
   "cell_type": "markdown",
   "id": "de06a6e8",
   "metadata": {},
   "source": [
    "Evaluation parameters"
   ]
  },
  {
   "cell_type": "code",
   "execution_count": 19,
   "id": "2d9d4269",
   "metadata": {},
   "outputs": [],
   "source": [
    "def iou_score(pred, target, eps=1e-6):\n",
    "    pred_bin = (pred > 0.5).float()\n",
    "    target_bin = (target > 0.5).float()\n",
    "    inter = (pred_bin * target_bin).sum()\n",
    "    union = pred_bin.sum() + target_bin.sum() - inter\n",
    "    return (inter + eps) / (union + eps)"
   ]
  },
  {
   "cell_type": "code",
   "execution_count": 20,
   "id": "4cfed56b",
   "metadata": {},
   "outputs": [],
   "source": [
    "def dice_score(pred, target, eps=1e-6):\n",
    "    pred_bin = (pred > 0.5).float()\n",
    "    target_bin = (target > 0.5).float()\n",
    "    inter = (pred_bin * target_bin).sum()\n",
    "    union = pred_bin.sum() + target_bin.sum()\n",
    "    return (2 * inter + eps) / (union + eps)"
   ]
  },
  {
   "cell_type": "code",
   "execution_count": 24,
   "id": "9f8c85e0",
   "metadata": {},
   "outputs": [
    {
     "name": "stderr",
     "output_type": "stream",
     "text": [
      "  0%|          | 0/50 [00:00<?, ?it/s]"
     ]
    },
    {
     "name": "stdout",
     "output_type": "stream",
     "text": [
      "→ Batch 1/4851 loaded\n",
      "→ Batch 2/4851 loaded\n",
      "→ Batch 3/4851 loaded\n",
      "→ Batch 4/4851 loaded\n",
      "→ Batch 5/4851 loaded\n",
      "→ Batch 6/4851 loaded\n",
      "→ Batch 7/4851 loaded\n",
      "→ Batch 8/4851 loaded\n",
      "→ Batch 9/4851 loaded\n",
      "→ Batch 10/4851 loaded\n",
      "→ Batch 11/4851 loaded\n",
      "→ Batch 12/4851 loaded\n",
      "→ Batch 13/4851 loaded\n",
      "→ Batch 14/4851 loaded\n",
      "→ Batch 15/4851 loaded\n",
      "→ Batch 16/4851 loaded\n",
      "→ Batch 17/4851 loaded\n",
      "→ Batch 18/4851 loaded\n",
      "→ Batch 19/4851 loaded\n",
      "→ Batch 20/4851 loaded\n",
      "→ Batch 21/4851 loaded\n",
      "→ Batch 22/4851 loaded\n",
      "→ Batch 23/4851 loaded\n",
      "→ Batch 24/4851 loaded\n",
      "→ Batch 25/4851 loaded\n",
      "→ Batch 26/4851 loaded\n",
      "→ Batch 27/4851 loaded\n",
      "→ Batch 28/4851 loaded\n",
      "→ Batch 29/4851 loaded\n",
      "→ Batch 30/4851 loaded\n",
      "→ Batch 31/4851 loaded\n",
      "→ Batch 32/4851 loaded\n",
      "→ Batch 33/4851 loaded\n",
      "→ Batch 34/4851 loaded\n"
     ]
    },
    {
     "name": "stderr",
     "output_type": "stream",
     "text": [
      "  0%|          | 0/50 [00:03<?, ?it/s]"
     ]
    },
    {
     "name": "stdout",
     "output_type": "stream",
     "text": [
      "→ Batch 35/4851 loaded\n"
     ]
    },
    {
     "name": "stderr",
     "output_type": "stream",
     "text": [
      "\n"
     ]
    },
    {
     "ename": "KeyboardInterrupt",
     "evalue": "",
     "output_type": "error",
     "traceback": [
      "\u001b[31m---------------------------------------------------------------------------\u001b[39m",
      "\u001b[31mKeyboardInterrupt\u001b[39m                         Traceback (most recent call last)",
      "\u001b[36mCell\u001b[39m\u001b[36m \u001b[39m\u001b[32mIn[24]\u001b[39m\u001b[32m, line 7\u001b[39m\n\u001b[32m      4\u001b[39m epoch_dices = []\n\u001b[32m      5\u001b[39m epoch_ious = []\n\u001b[32m----> \u001b[39m\u001b[32m7\u001b[39m \u001b[43m\u001b[49m\u001b[38;5;28;43;01mfor\u001b[39;49;00m\u001b[43m \u001b[49m\u001b[43mi\u001b[49m\u001b[43m,\u001b[49m\u001b[43m \u001b[49m\u001b[43m(\u001b[49m\u001b[43msupport_imgs\u001b[49m\u001b[43m,\u001b[49m\u001b[43m \u001b[49m\u001b[43msupport_msks\u001b[49m\u001b[43m,\u001b[49m\u001b[43m \u001b[49m\u001b[43mquery_img\u001b[49m\u001b[43m,\u001b[49m\u001b[43m \u001b[49m\u001b[43mquery_mask\u001b[49m\u001b[43m)\u001b[49m\u001b[43m \u001b[49m\u001b[38;5;129;43;01min\u001b[39;49;00m\u001b[43m \u001b[49m\u001b[38;5;28;43menumerate\u001b[39;49m\u001b[43m(\u001b[49m\u001b[43mtrain_loader\u001b[49m\u001b[43m)\u001b[49m\u001b[43m:\u001b[49m\n\u001b[32m      8\u001b[39m \u001b[43m    \u001b[49m\u001b[38;5;28;43mprint\u001b[39;49m\u001b[43m(\u001b[49m\u001b[33;43mf\u001b[39;49m\u001b[33;43m\"\u001b[39;49m\u001b[33;43m→ Batch \u001b[39;49m\u001b[38;5;132;43;01m{\u001b[39;49;00m\u001b[43mi\u001b[49m\u001b[43m+\u001b[49m\u001b[32;43m1\u001b[39;49m\u001b[38;5;132;43;01m}\u001b[39;49;00m\u001b[33;43m/\u001b[39;49m\u001b[38;5;132;43;01m{\u001b[39;49;00m\u001b[38;5;28;43mlen\u001b[39;49m\u001b[43m(\u001b[49m\u001b[43mtrain_loader\u001b[49m\u001b[43m)\u001b[49m\u001b[38;5;132;43;01m}\u001b[39;49;00m\u001b[33;43m loaded\u001b[39;49m\u001b[33;43m\"\u001b[39;49m\u001b[43m)\u001b[49m\n\u001b[32m      9\u001b[39m \u001b[43m    \u001b[49m\u001b[38;5;28;43;01mdef\u001b[39;49;00m\u001b[38;5;250;43m \u001b[39;49m\u001b[34;43msafe_to_device\u001b[39;49m\u001b[43m(\u001b[49m\u001b[43mx\u001b[49m\u001b[43m,\u001b[49m\u001b[43m \u001b[49m\u001b[43mdevice\u001b[49m\u001b[43m)\u001b[49m\u001b[43m:\u001b[49m\n",
      "\u001b[36mFile \u001b[39m\u001b[32mc:\\ETC\\py\\venv\\Lib\\site-packages\\torch\\utils\\data\\dataloader.py:708\u001b[39m, in \u001b[36m_BaseDataLoaderIter.__next__\u001b[39m\u001b[34m(self)\u001b[39m\n\u001b[32m    705\u001b[39m \u001b[38;5;28;01mif\u001b[39;00m \u001b[38;5;28mself\u001b[39m._sampler_iter \u001b[38;5;129;01mis\u001b[39;00m \u001b[38;5;28;01mNone\u001b[39;00m:\n\u001b[32m    706\u001b[39m     \u001b[38;5;66;03m# TODO(https://github.com/pytorch/pytorch/issues/76750)\u001b[39;00m\n\u001b[32m    707\u001b[39m     \u001b[38;5;28mself\u001b[39m._reset()  \u001b[38;5;66;03m# type: ignore[call-arg]\u001b[39;00m\n\u001b[32m--> \u001b[39m\u001b[32m708\u001b[39m data = \u001b[38;5;28;43mself\u001b[39;49m\u001b[43m.\u001b[49m\u001b[43m_next_data\u001b[49m\u001b[43m(\u001b[49m\u001b[43m)\u001b[49m\n\u001b[32m    709\u001b[39m \u001b[38;5;28mself\u001b[39m._num_yielded += \u001b[32m1\u001b[39m\n\u001b[32m    710\u001b[39m \u001b[38;5;28;01mif\u001b[39;00m (\n\u001b[32m    711\u001b[39m     \u001b[38;5;28mself\u001b[39m._dataset_kind == _DatasetKind.Iterable\n\u001b[32m    712\u001b[39m     \u001b[38;5;129;01mand\u001b[39;00m \u001b[38;5;28mself\u001b[39m._IterableDataset_len_called \u001b[38;5;129;01mis\u001b[39;00m \u001b[38;5;129;01mnot\u001b[39;00m \u001b[38;5;28;01mNone\u001b[39;00m\n\u001b[32m    713\u001b[39m     \u001b[38;5;129;01mand\u001b[39;00m \u001b[38;5;28mself\u001b[39m._num_yielded > \u001b[38;5;28mself\u001b[39m._IterableDataset_len_called\n\u001b[32m    714\u001b[39m ):\n",
      "\u001b[36mFile \u001b[39m\u001b[32mc:\\ETC\\py\\venv\\Lib\\site-packages\\torch\\utils\\data\\dataloader.py:764\u001b[39m, in \u001b[36m_SingleProcessDataLoaderIter._next_data\u001b[39m\u001b[34m(self)\u001b[39m\n\u001b[32m    762\u001b[39m \u001b[38;5;28;01mdef\u001b[39;00m\u001b[38;5;250m \u001b[39m\u001b[34m_next_data\u001b[39m(\u001b[38;5;28mself\u001b[39m):\n\u001b[32m    763\u001b[39m     index = \u001b[38;5;28mself\u001b[39m._next_index()  \u001b[38;5;66;03m# may raise StopIteration\u001b[39;00m\n\u001b[32m--> \u001b[39m\u001b[32m764\u001b[39m     data = \u001b[38;5;28;43mself\u001b[39;49m\u001b[43m.\u001b[49m\u001b[43m_dataset_fetcher\u001b[49m\u001b[43m.\u001b[49m\u001b[43mfetch\u001b[49m\u001b[43m(\u001b[49m\u001b[43mindex\u001b[49m\u001b[43m)\u001b[49m  \u001b[38;5;66;03m# may raise StopIteration\u001b[39;00m\n\u001b[32m    765\u001b[39m     \u001b[38;5;28;01mif\u001b[39;00m \u001b[38;5;28mself\u001b[39m._pin_memory:\n\u001b[32m    766\u001b[39m         data = _utils.pin_memory.pin_memory(data, \u001b[38;5;28mself\u001b[39m._pin_memory_device)\n",
      "\u001b[36mFile \u001b[39m\u001b[32mc:\\ETC\\py\\venv\\Lib\\site-packages\\torch\\utils\\data\\_utils\\fetch.py:52\u001b[39m, in \u001b[36m_MapDatasetFetcher.fetch\u001b[39m\u001b[34m(self, possibly_batched_index)\u001b[39m\n\u001b[32m     50\u001b[39m         data = \u001b[38;5;28mself\u001b[39m.dataset.__getitems__(possibly_batched_index)\n\u001b[32m     51\u001b[39m     \u001b[38;5;28;01melse\u001b[39;00m:\n\u001b[32m---> \u001b[39m\u001b[32m52\u001b[39m         data = [\u001b[38;5;28;43mself\u001b[39;49m\u001b[43m.\u001b[49m\u001b[43mdataset\u001b[49m\u001b[43m[\u001b[49m\u001b[43midx\u001b[49m\u001b[43m]\u001b[49m \u001b[38;5;28;01mfor\u001b[39;00m idx \u001b[38;5;129;01min\u001b[39;00m possibly_batched_index]\n\u001b[32m     53\u001b[39m \u001b[38;5;28;01melse\u001b[39;00m:\n\u001b[32m     54\u001b[39m     data = \u001b[38;5;28mself\u001b[39m.dataset[possibly_batched_index]\n",
      "\u001b[36mCell\u001b[39m\u001b[36m \u001b[39m\u001b[32mIn[6]\u001b[39m\u001b[32m, line 35\u001b[39m, in \u001b[36mFastPatchDataset.__getitem__\u001b[39m\u001b[34m(self, idx)\u001b[39m\n\u001b[32m     32\u001b[39m support_imgs, support_msks = [], []\n\u001b[32m     34\u001b[39m \u001b[38;5;28;01mfor\u001b[39;00m s_idx \u001b[38;5;129;01min\u001b[39;00m support_idxs:\n\u001b[32m---> \u001b[39m\u001b[32m35\u001b[39m     s_img = \u001b[43mtorch\u001b[49m\u001b[43m.\u001b[49m\u001b[43mload\u001b[49m\u001b[43m(\u001b[49m\u001b[38;5;28;43mself\u001b[39;49m\u001b[43m.\u001b[49m\u001b[43mimg_paths\u001b[49m\u001b[43m[\u001b[49m\u001b[43ms_idx\u001b[49m\u001b[43m]\u001b[49m\u001b[43m)\u001b[49m.float()\n\u001b[32m     36\u001b[39m     s_msk = torch.load(\u001b[38;5;28mself\u001b[39m.mask_paths[s_idx]).float()\n\u001b[32m     38\u001b[39m     \u001b[38;5;28;01mif\u001b[39;00m s_img.ndim == \u001b[32m2\u001b[39m:\n",
      "\u001b[36mFile \u001b[39m\u001b[32mc:\\ETC\\py\\venv\\Lib\\site-packages\\torch\\serialization.py:1425\u001b[39m, in \u001b[36mload\u001b[39m\u001b[34m(f, map_location, pickle_module, weights_only, mmap, **pickle_load_args)\u001b[39m\n\u001b[32m   1422\u001b[39m \u001b[38;5;28;01mif\u001b[39;00m \u001b[33m\"\u001b[39m\u001b[33mencoding\u001b[39m\u001b[33m\"\u001b[39m \u001b[38;5;129;01mnot\u001b[39;00m \u001b[38;5;129;01min\u001b[39;00m pickle_load_args.keys():\n\u001b[32m   1423\u001b[39m     pickle_load_args[\u001b[33m\"\u001b[39m\u001b[33mencoding\u001b[39m\u001b[33m\"\u001b[39m] = \u001b[33m\"\u001b[39m\u001b[33mutf-8\u001b[39m\u001b[33m\"\u001b[39m\n\u001b[32m-> \u001b[39m\u001b[32m1425\u001b[39m \u001b[38;5;28;01mwith\u001b[39;00m \u001b[43m_open_file_like\u001b[49m\u001b[43m(\u001b[49m\u001b[43mf\u001b[49m\u001b[43m,\u001b[49m\u001b[43m \u001b[49m\u001b[33;43m\"\u001b[39;49m\u001b[33;43mrb\u001b[39;49m\u001b[33;43m\"\u001b[39;49m\u001b[43m)\u001b[49m \u001b[38;5;28;01mas\u001b[39;00m opened_file:\n\u001b[32m   1426\u001b[39m     \u001b[38;5;28;01mif\u001b[39;00m _is_zipfile(opened_file):\n\u001b[32m   1427\u001b[39m         \u001b[38;5;66;03m# The zipfile reader is going to advance the current file position.\u001b[39;00m\n\u001b[32m   1428\u001b[39m         \u001b[38;5;66;03m# If we want to actually tail call to torch.jit.load, we need to\u001b[39;00m\n\u001b[32m   1429\u001b[39m         \u001b[38;5;66;03m# reset back to the original position.\u001b[39;00m\n\u001b[32m   1430\u001b[39m         orig_position = opened_file.tell()\n",
      "\u001b[36mFile \u001b[39m\u001b[32mc:\\ETC\\py\\venv\\Lib\\site-packages\\torch\\serialization.py:751\u001b[39m, in \u001b[36m_open_file_like\u001b[39m\u001b[34m(name_or_buffer, mode)\u001b[39m\n\u001b[32m    749\u001b[39m \u001b[38;5;28;01mdef\u001b[39;00m\u001b[38;5;250m \u001b[39m\u001b[34m_open_file_like\u001b[39m(name_or_buffer, mode):\n\u001b[32m    750\u001b[39m     \u001b[38;5;28;01mif\u001b[39;00m _is_path(name_or_buffer):\n\u001b[32m--> \u001b[39m\u001b[32m751\u001b[39m         \u001b[38;5;28;01mreturn\u001b[39;00m \u001b[43m_open_file\u001b[49m\u001b[43m(\u001b[49m\u001b[43mname_or_buffer\u001b[49m\u001b[43m,\u001b[49m\u001b[43m \u001b[49m\u001b[43mmode\u001b[49m\u001b[43m)\u001b[49m\n\u001b[32m    752\u001b[39m     \u001b[38;5;28;01melse\u001b[39;00m:\n\u001b[32m    753\u001b[39m         \u001b[38;5;28;01mif\u001b[39;00m \u001b[33m\"\u001b[39m\u001b[33mw\u001b[39m\u001b[33m\"\u001b[39m \u001b[38;5;129;01min\u001b[39;00m mode:\n",
      "\u001b[36mFile \u001b[39m\u001b[32mc:\\ETC\\py\\venv\\Lib\\site-packages\\torch\\serialization.py:732\u001b[39m, in \u001b[36m_open_file.__init__\u001b[39m\u001b[34m(self, name, mode)\u001b[39m\n\u001b[32m    731\u001b[39m \u001b[38;5;28;01mdef\u001b[39;00m\u001b[38;5;250m \u001b[39m\u001b[34m__init__\u001b[39m(\u001b[38;5;28mself\u001b[39m, name, mode):\n\u001b[32m--> \u001b[39m\u001b[32m732\u001b[39m     \u001b[38;5;28msuper\u001b[39m().\u001b[34m__init__\u001b[39m(\u001b[38;5;28;43mopen\u001b[39;49m\u001b[43m(\u001b[49m\u001b[43mname\u001b[49m\u001b[43m,\u001b[49m\u001b[43m \u001b[49m\u001b[43mmode\u001b[49m\u001b[43m)\u001b[49m)\n",
      "\u001b[31mKeyboardInterrupt\u001b[39m: "
     ]
    }
   ],
   "source": [
    "for epoch in tqdm(range(num_epochs)):\n",
    "    model.train()\n",
    "    running_loss = 0.0\n",
    "    epoch_dices = []\n",
    "    epoch_ious = []\n",
    "\n",
    "    for i, (support_imgs, support_msks, query_img, query_mask) in enumerate(train_loader):\n",
    "        print(f\"→ Batch {i+1}/{len(train_loader)} loaded\")\n",
    "        def safe_to_device(x, device):\n",
    "            if not torch.isfinite(x).all():\n",
    "                raise ValueError(\"Tensor contains NaN or Inf\")\n",
    "            return x.to(device)\n",
    "\n",
    "        support_imgs = safe_to_device(support_imgs.float(), device)\n",
    "        support_msks = safe_to_device(support_msks.float(), device)\n",
    "        query_img    = safe_to_device(query_img.float(), device)\n",
    "        query_mask   = safe_to_device(query_mask.float(), device)\n",
    "\n",
    "        optimizer.zero_grad()\n",
    "        pred = model(support_imgs, support_msks, query_img)\n",
    "        pred = pred.float()\n",
    "\n",
    "        query_mask = (query_mask > 0.5).float()\n",
    "        if query_mask.shape != pred.shape:\n",
    "            query_mask = F.interpolate(query_mask, size=pred.shape[2:], mode='bilinear', align_corners=False)\n",
    "\n",
    "\n",
    "        loss_bce = F.binary_cross_entropy(pred, query_mask)\n",
    "        loss_dice_val = dice_score(pred, query_mask)\n",
    "        loss = loss_bce + (1 - loss_dice_val)\n",
    "\n",
    "        loss.backward()\n",
    "        optimizer.step()\n",
    "\n",
    "        running_loss += loss.item()\n",
    "        epoch_dices.append(loss_dice_val.item())\n",
    "        epoch_ious.append(iou_score(pred, query_mask).item())\n",
    "\n",
    "    # === End of training epoch ===\n",
    "    avg_train_loss = running_loss / len(train_loader)\n",
    "    avg_train_dice = sum(epoch_dices) / len(epoch_dices)\n",
    "    avg_train_iou = sum(epoch_ious) / len(epoch_ious)\n",
    "\n",
    "    train_losses.append(avg_train_loss)\n",
    "    train_dices.append(avg_train_dice)\n",
    "    train_ious.append(avg_train_iou)\n",
    "\n",
    "    # === Validation ===\n",
    "    model.eval()\n",
    "    val_running_loss = 0.0\n",
    "    val_dice_scores = []\n",
    "    val_iou_scores = []\n",
    "\n",
    "    with torch.no_grad():\n",
    "        for support_imgs, support_msks, query_img, query_mask in val_loader:\n",
    "            support_imgs = support_imgs.to(device).float()\n",
    "            support_msks = support_msks.to(device).float()\n",
    "            query_img    = query_img.to(device).float()\n",
    "            query_mask   = query_mask.to(device).float()\n",
    "\n",
    "            pred = model(support_imgs, support_msks, query_img)\n",
    "            pred = pred.float()\n",
    "            query_mask = (query_mask > 0.5).float()\n",
    "\n",
    "            if query_mask.shape != pred.shape:\n",
    "                query_mask = F.interpolate(query_mask, size=pred.shape[2:], mode='bilinear', align_corners=False)\n",
    "\n",
    "            loss_bce = F.binary_cross_entropy(pred, query_mask)\n",
    "            loss_dice_val = dice_score(pred, query_mask)\n",
    "            val_loss = loss_bce + (1 - loss_dice_val)\n",
    "\n",
    "            val_running_loss += val_loss.item()\n",
    "            val_dice_scores.append(loss_dice_val.item())\n",
    "            val_iou_scores.append(iou_score(pred, query_mask).item())\n",
    "\n",
    "    avg_val_loss = val_running_loss / len(val_loader)\n",
    "    avg_val_dice = sum(val_dice_scores) / len(val_dice_scores)\n",
    "    avg_val_iou = sum(val_iou_scores) / len(val_iou_scores)\n",
    "\n",
    "    val_losses.append(avg_val_loss)\n",
    "    val_dices.append(avg_val_dice)\n",
    "    val_ious.append(avg_val_iou)\n",
    "\n",
    "    print(f\"Epoch {epoch+1}:\")\n",
    "    print(f\"  Train Loss={avg_train_loss:.4f}, Dice={avg_train_dice:.4f}, IoU={avg_train_iou:.4f}\")\n",
    "    print(f\"  Val   Loss={avg_val_loss:.4f}, Dice={avg_val_dice:.4f}, IoU={avg_val_iou:.4f}\")\n"
   ]
  },
  {
   "cell_type": "code",
   "execution_count": null,
   "id": "b92606a3",
   "metadata": {},
   "outputs": [
    {
     "name": "stdout",
     "output_type": "stream",
     "text": [
      "dice=0.8515958667829854, iou = 0.7692254341651248, loss = 0.15371554100629112\n"
     ]
    }
   ],
   "source": [
    "print(f'dice={avg_train_dice}, iou = {avg_train_iou}, loss = {avg_train_loss}')"
   ]
  },
  {
   "cell_type": "code",
   "execution_count": null,
   "id": "72f57f97",
   "metadata": {},
   "outputs": [
    {
     "data": {
      "text/plain": [
       "'\\nmodel = CGNet()\\nmodel.load_state_dict(torch.load(\"checkpoints/dice_cgnet_checkpoint_1.pth\"))\\nmodel.to(device)\\nmodel.eval()  # Set to inference mode\\n'"
      ]
     },
     "execution_count": 45,
     "metadata": {},
     "output_type": "execute_result"
    }
   ],
   "source": [
    "# save model\n",
    "torch.save(model.state_dict(), f\"checkpoints/85_cgnet_checkpoint_2.pth\")\n",
    "\n",
    "# how to load later\n",
    "'''\n",
    "model = CGNet()\n",
    "model.load_state_dict(torch.load(\"checkpoints/dice_cgnet_checkpoint_1.pth\"))\n",
    "model.to(device)\n",
    "model.eval()  # Set to inference mode\n",
    "'''"
   ]
  },
  {
   "cell_type": "markdown",
   "id": "fe924602",
   "metadata": {},
   "source": [
    "## Visualization"
   ]
  },
  {
   "cell_type": "code",
   "execution_count": null,
   "id": "424265f9",
   "metadata": {},
   "outputs": [
    {
     "data": {
      "image/png": "[encoded data removed]",
      "text/plain": [
       "<Figure size 1200x500 with 2 Axes>"
      ]
     },
     "metadata": {},
     "output_type": "display_data"
    }
   ],
   "source": [
    "import matplotlib.pyplot as plt\n",
    "\n",
    "plt.figure(figsize=(12, 5))\n",
    "\n",
    "plt.subplot(1, 2, 1)\n",
    "plt.plot(train_dices, label='Train Dice')\n",
    "plt.plot(val_dices, label='Val Dice')\n",
    "plt.xlabel(\"Epoch\")\n",
    "plt.ylabel(\"Dice Score\")\n",
    "plt.legend()\n",
    "\n",
    "plt.subplot(1, 2, 2)\n",
    "plt.plot(train_ious, label='Train IoU')\n",
    "plt.plot(val_ious, label='Val IoU')\n",
    "plt.xlabel(\"Epoch\")\n",
    "plt.ylabel(\"IoU Score\")\n",
    "plt.legend()\n",
    "\n",
    "plt.tight_layout()\n",
    "plt.show()"
   ]
  },
  {
   "cell_type": "code",
   "execution_count": null,
   "id": "2579be9c",
   "metadata": {},
   "outputs": [
    {
     "data": {
      "image/png": "[encoded data removed]",
      "text/plain": [
       "<Figure size 600x400 with 1 Axes>"
      ]
     },
     "metadata": {},
     "output_type": "display_data"
    },
    {
     "data": {
      "image/png": "[encoded data removed]",
      "text/plain": [
       "<Figure size 800x800 with 3 Axes>"
      ]
     },
     "metadata": {},
     "output_type": "display_data"
    }
   ],
   "source": [
    "import matplotlib.pyplot as plt\n",
    "\n",
    "# Plot training and validation loss curves\n",
    "plt.figure(figsize=(6,4))\n",
    "plt.plot(train_losses, label='Train Loss')\n",
    "plt.plot(val_losses, label='Val Loss')\n",
    "plt.xlabel('Epoch'); plt.ylabel('Loss'); plt.legend()\n",
    "plt.show()\n",
    "\n",
    "# Show example segmentation\n",
    "model.eval()\n",
    "with torch.no_grad():\n",
    "    sup_imgs, sup_msks, q_img, q_mask = next(iter(val_loader))\n",
    "    pred = model(sup_imgs.to(device), sup_msks.to(device), q_img.to(device))\n",
    "    pred_np = pred.cpu().squeeze().numpy()\n",
    "    q_img_np = q_img.squeeze().numpy()\n",
    "    q_mask_np = q_mask.squeeze().numpy()\n",
    "plt.figure(figsize=(8,8))\n",
    "plt.subplot(1,3,1)\n",
    "plt.title(\"Query Image\"); plt.imshow(q_img_np, cmap='gray')\n",
    "plt.subplot(1,3,2)\n",
    "plt.title(\"Ground Truth\"); plt.imshow(q_mask_np, cmap='gray')\n",
    "plt.subplot(1,3,3)\n",
    "plt.title(\"Prediction\");   plt.imshow(pred_np>0.5, cmap='gray')\n",
    "plt.show()"
   ]
  }
 ],
 "metadata": {
  "kernelspec": {
   "display_name": "Python (.venv)",
   "language": "python",
   "name": "venv"
  },
  "language_info": {
   "codemirror_mode": {
    "name": "ipython",
    "version": 3
   },
   "file_extension": ".py",
   "mimetype": "text/x-python",
   "name": "python",
   "nbconvert_exporter": "python",
   "pygments_lexer": "ipython3",
   "version": "3.13.3"
  }
 },
 "nbformat": 4,
 "nbformat_minor": 5
}
